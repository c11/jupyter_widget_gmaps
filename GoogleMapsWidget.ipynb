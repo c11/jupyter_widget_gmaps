{
 "cells": [
  {
   "cell_type": "code",
   "execution_count": null,
   "metadata": {
    "collapsed": false
   },
   "outputs": [],
   "source": [
    "%%javascript\n",
    "\n",
    "require(['widgets/js/widget', 'widgets/js/manager', 'jquery', 'underscore'], function(widget, manager, $, _) {\n",
    "    var GoogleMapsView = widget.DOMWidgetView.extend({\n",
    "        initialize: function() {\n",
    "            console.log(_);\n",
    "            var mapsDeferred = this.mapsDeferred = $.Deferred();\n",
    "            if (window.google && window.google.maps) {\n",
    "                mapsDeferred.resolve();\n",
    "            } else {\n",
    "                window.googleMapsCallback = function() {\n",
    "                    mapsDeferred.resolve();\n",
    "                }\n",
    "                require(\n",
    "                    ['http://maps.googleapis.com/maps/api/js?callback=googleMapsCallback'], \n",
    "                    function() {}, \n",
    "                    function() {});\n",
    "            }\n",
    "        },\n",
    "        \n",
    "        render: function() {\n",
    "            $.when(this.mapsDeferred.promise()).then(function() {\n",
    "                this.$el.empty();\n",
    "                _.defer(function() {\n",
    "                    this.$map = $('<div style=\"height: 100px; width: 400px;\"></div>');\n",
    "                    this.$el.append(this.$map);\n",
    "                    this.map = new google.maps.Map(this.$map.get(0), {\n",
    "                        center: {lat: -34.397, lng: 150.644},\n",
    "                        zoom: 8\n",
    "                    });\n",
    "                }.bind(this));\n",
    "            }.bind(this));\n",
    "        },\n",
    "    });\n",
    "    \n",
    "    manager.WidgetManager.register_widget_view('GoogleMapsView', GoogleMapsView);\n",
    "});"
   ]
  },
  {
   "cell_type": "code",
   "execution_count": null,
   "metadata": {
    "collapsed": false,
    "scrolled": true
   },
   "outputs": [],
   "source": [
    "from ipywidgets import widgets\n",
    "from traitlets import Unicode, CInt\n",
    "\n",
    "class GoogleMapsView(widgets.DOMWidget):\n",
    "    _view_name = Unicode('GoogleMapsView', sync=True)\n",
    "    value = CInt(0, sync=True)"
   ]
  },
  {
   "cell_type": "code",
   "execution_count": null,
   "metadata": {
    "collapsed": false
   },
   "outputs": [],
   "source": [
    "w = GoogleMapsView()"
   ]
  },
  {
   "cell_type": "code",
   "execution_count": null,
   "metadata": {
    "collapsed": false
   },
   "outputs": [],
   "source": [
    "w"
   ]
  },
  {
   "cell_type": "code",
   "execution_count": null,
   "metadata": {
    "collapsed": true
   },
   "outputs": [],
   "source": [
    "z = GoogleMapsView()"
   ]
  },
  {
   "cell_type": "code",
   "execution_count": null,
   "metadata": {
    "collapsed": true
   },
   "outputs": [],
   "source": [
    "z"
   ]
  },
  {
   "cell_type": "code",
   "execution_count": null,
   "metadata": {
    "collapsed": true
   },
   "outputs": [],
   "source": [
    "z"
   ]
  },
  {
   "cell_type": "code",
   "execution_count": null,
   "metadata": {
    "collapsed": true
   },
   "outputs": [],
   "source": []
  }
 ],
 "metadata": {
  "kernelspec": {
   "display_name": "Python 2",
   "language": "python",
   "name": "python2"
  },
  "language_info": {
   "codemirror_mode": {
    "name": "ipython",
    "version": 2
   },
   "file_extension": ".py",
   "mimetype": "text/x-python",
   "name": "python",
   "nbconvert_exporter": "python",
   "pygments_lexer": "ipython2",
   "version": "2.7.10"
  }
 },
 "nbformat": 4,
 "nbformat_minor": 0
}
