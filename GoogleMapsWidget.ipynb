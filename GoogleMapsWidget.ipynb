{
 "cells": [
  {
   "cell_type": "code",
   "execution_count": null,
   "metadata": {
    "collapsed": false
   },
   "outputs": [],
   "source": [
    "%%javascript\n",
    "\n",
    "require(['widgets/js/widget', 'widgets/js/manager', 'jquery', 'underscore'], function(widget, manager, $, _) {\n",
    "    var GoogleMapsView = widget.DOMWidgetView.extend({\n",
    "        initialize: function() {\n",
    "            var mapsDeferred = this.mapsDeferred = $.Deferred();\n",
    "            if (window.google && window.google.maps) {\n",
    "                mapsDeferred.resolve();\n",
    "            } else {\n",
    "                window.googleMapsCallback = function() {\n",
    "                    mapsDeferred.resolve();\n",
    "                }\n",
    "                require(\n",
    "                    ['http://maps.googleapis.com/maps/api/js?callback=googleMapsCallback'], \n",
    "                    function() {}, \n",
    "                    function() {});\n",
    "            }\n",
    "        },\n",
    "        \n",
    "        render: function() {\n",
    "            $.when(this.mapsDeferred.promise()).then(_.bind(function() {\n",
    "                this.$el.empty();\n",
    "                _.defer(_.bind(function() {\n",
    "                    this.$map = $(\n",
    "                        '<div style=\"height: ' + this.model.get('height') + '; width: ' + this.model.get('width') + ';\"></div>');\n",
    "                    this.$el.append(this.$map);\n",
    "                    this.map = new google.maps.Map(this.$map.get(0), {\n",
    "                        center: {lat: this.model.get('lat'), lng: this.model.get('lng')},\n",
    "                        zoom: this.model.get('zoom')\n",
    "                    });\n",
    "                    \n",
    "                    this.listenTo(this.model, 'change:height', _.bind(function() {\n",
    "                        this.$map.height(this.model.get('height'));\n",
    "                        google.maps.event.trigger(this.map, 'resize');\n",
    "                    }, this));\n",
    "                    this.listenTo(this.model, 'change:width', _.bind(function() {\n",
    "                        this.$map.width(this.model.get('width'));\n",
    "                        google.maps.event.trigger(this.map, 'resize');\n",
    "                    }, this));\n",
    "                    \n",
    "                    google.maps.event.addListener(this.map, 'bounds_changed', _.bind(this.syncFromMap, this));\n",
    "                    \n",
    "                    this.listenTo(this.model, 'change:lat', _.bind(this.syncFromModel, this));\n",
    "                    this.listenTo(this.model, 'change:lng', _.bind(this.syncFromModel, this));\n",
    "                    this.listenTo(this.model, 'change:zoom', _.bind(this.syncFromModel, this));\n",
    "                    \n",
    "                    this.listenTo(this.model, 'msg:custom', _.bind(this.handleMessage, this));\n",
    "                }, this));\n",
    "            }, this));\n",
    "        },\n",
    "        \n",
    "        syncFromMap: function() {\n",
    "            this.model.set({\n",
    "                lat: this.map.getCenter().lat(),\n",
    "                lng: this.map.getCenter().lng(),\n",
    "                zoom: this.map.getZoom()\n",
    "            });\n",
    "            this.model.save_changes();\n",
    "        },\n",
    "        \n",
    "        syncFromModel: function() {\n",
    "            this.map.setCenter(new google.maps.LatLng(\n",
    "                this.model.get('lat'),\n",
    "                this.model.get('lng')\n",
    "            ));\n",
    "            this.map.setZoom(this.model.get('zoom'));\n",
    "        },\n",
    "        \n",
    "        handleMessage: function(payload) {\n",
    "            var params = payload.params || [];\n",
    "            this[payload.method].apply(this, params);\n",
    "        },\n",
    "        \n",
    "        addLayer: function() {\n",
    "            console.log(arguments);\n",
    "            //console.log(arguments[0].mapid);\n",
    "            \n",
    "            var mapid = arguments[0].mapid\n",
    "            var token = arguments[0].token\n",
    "            var name = arguments[0].name\n",
    "            var visible = arguments[0].visible\n",
    "            \n",
    "            var eeMapOptions = {\n",
    "                getTileUrl: function(tile, zoom) {\n",
    "                    var url = ['https://earthengine.googleapis.com/map',\n",
    "                               mapid, zoom, tile.x, tile.y].join(\"/\");\n",
    "                    url += '?token=' + token\n",
    "                    return url;\n",
    "                },\n",
    "                tileSize: new window.google.maps.Size(256, 256),\n",
    "                opacity: visible ? 1.0 : 0.0,\n",
    "            };\n",
    "            \n",
    "            // Create the overlay map type\n",
    "            var mapType = new window.google.maps.ImageMapType(eeMapOptions);\n",
    "                \n",
    "            // Overlay the Earth Engine generated layer\n",
    "            this.map.overlayMapTypes.push(mapType);\n",
    "        }\n",
    "    });\n",
    "    \n",
    "    manager.WidgetManager.register_widget_view('GoogleMapsView', GoogleMapsView);\n",
    "});"
   ]
  },
  {
   "cell_type": "code",
   "execution_count": null,
   "metadata": {
    "collapsed": false,
    "scrolled": true
   },
   "outputs": [],
   "source": [
    "from ipywidgets import widgets\n",
    "import traitlets\n",
    "\n",
    "class GoogleMapsView(widgets.DOMWidget):\n",
    "    _view_name = traitlets.Unicode('GoogleMapsView', sync=True)\n",
    "    lat = traitlets.CFloat(0, sync=True)\n",
    "    lng = traitlets.CFloat(0, sync=True)\n",
    "    zoom = traitlets.CInt(2, sync=True)\n",
    "    \n",
    "    height = traitlets.CUnicode('300px', sync=True)\n",
    "    width = traitlets.CUnicode('400px', sync=True)\n",
    "        \n",
    "    def addLayer(self, image, vis_params):\n",
    "        mapid = image.getMapId(vis_params)\n",
    "        self.send({'method': 'addLayer',\n",
    "                   'params': [{\n",
    "                        'mapid':mapid['mapid'], \n",
    "                        'token':mapid['token'],\n",
    "                        'name':\"dummy\",\n",
    "                        'visible':True\n",
    "                    }]\n",
    "                  })"
   ]
  },
  {
   "cell_type": "code",
   "execution_count": null,
   "metadata": {
    "collapsed": false
   },
   "outputs": [],
   "source": [
    "from IPython.display import display\n",
    "import ee\n",
    "\n",
    "l8 = ee.ImageCollection('LANDSAT/LC8_L1T_TOA').filterDate('2013-05-01', '2013-05-15').mosaic()\n",
    "dem = ee.Image('USGS/SRTMGL1_003')\n",
    "\n",
    "vis_params_dem = {'min':0, 'max':3000}\n",
    "vis_params_true = {'min':0, 'max':0.3, 'bands':'B4,B3,B2'}\n",
    "vis_params_false = {'min':0, 'max':0.3, 'bands':'B5,B4,B3'}\n",
    "\n",
    "# Overview map.\n",
    "map1 = GoogleMapsView(lng=-119.2, lat=36.3, zoom=4)\n",
    "map1.height = '200px'\n",
    "map1.width = '600px'\n",
    "\n",
    "# SRTM\n",
    "map2 = GoogleMapsView(zoom=6)\n",
    "map2.height = map1.height\n",
    "map2.width = map1.width\n",
    "\n",
    "# Landsat 8 True Color\n",
    "map3 = GoogleMapsView()\n",
    "map3.height = map1.height\n",
    "map3.width = map1.width\n",
    "\n",
    "# Landsat 8 False Color\n",
    "map4 = GoogleMapsView()\n",
    "map4.height = map1.height\n",
    "map4.width = map1.width"
   ]
  },
  {
   "cell_type": "code",
   "execution_count": null,
   "metadata": {
    "collapsed": false
   },
   "outputs": [],
   "source": [
    "# Link up the interactive content\n",
    "widgets.jslink((map1, 'lat'), (map2, 'lat'))\n",
    "widgets.jslink((map1, 'lat'), (map3, 'lat'))\n",
    "widgets.jslink((map1, 'lat'), (map4, 'lat'))\n",
    "widgets.jslink((map1, 'lng'), (map2, 'lng'))\n",
    "widgets.jslink((map1, 'lng'), (map3, 'lng'))\n",
    "widgets.jslink((map1, 'lng'), (map4, 'lng'))\n",
    "widgets.jslink((map2, 'zoom'), (map3, 'zoom'))\n",
    "widgets.jslink((map2, 'zoom'), (map4, 'zoom'))"
   ]
  },
  {
   "cell_type": "code",
   "execution_count": null,
   "metadata": {
    "collapsed": false
   },
   "outputs": [],
   "source": [
    "display(map1, map2, map3, map4)\n",
    "# Overlay some Earth Engine data.\n",
    "map2.addLayer(image=dem, vis_params=vis_params_dem)\n",
    "map3.addLayer(image=l8, vis_params=vis_params_true)\n",
    "map4.addLayer(image=l8, vis_params=vis_params_false)"
   ]
  },
  {
   "cell_type": "code",
   "execution_count": null,
   "metadata": {
    "collapsed": false
   },
   "outputs": [],
   "source": [
    "(map4.lng, map4.lat)"
   ]
  },
  {
   "cell_type": "code",
   "execution_count": null,
   "metadata": {
    "collapsed": true
   },
   "outputs": [],
   "source": []
  },
  {
   "cell_type": "code",
   "execution_count": null,
   "metadata": {
    "collapsed": true
   },
   "outputs": [],
   "source": []
  }
 ],
 "metadata": {
  "kernelspec": {
   "display_name": "Python 2",
   "language": "python",
   "name": "python2"
  },
  "language_info": {
   "codemirror_mode": {
    "name": "ipython",
    "version": 2
   },
   "file_extension": ".py",
   "mimetype": "text/x-python",
   "name": "python",
   "nbconvert_exporter": "python",
   "pygments_lexer": "ipython2",
   "version": "2.7.10"
  }
 },
 "nbformat": 4,
 "nbformat_minor": 0
}
