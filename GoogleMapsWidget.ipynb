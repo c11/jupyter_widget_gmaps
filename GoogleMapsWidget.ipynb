{
 "cells": [
  {
   "cell_type": "markdown",
   "metadata": {},
   "source": [
    "# Google Maps Jupyter Widget\n",
    "\n",
    "This is a simple Google Maps widget that showcases two way interaction between Google Maps notebook content with a Jupyter widget."
   ]
  },
  {
   "cell_type": "markdown",
   "metadata": {},
   "source": [
    "## Configure the Javascript half of the Widget\n",
    "\n",
    "This is the Javascript side of the widget and does not typically need modified (unless you are added features to the widget). Eventually this should be bundled as a standalone widget that can be imported from outside the notebook. For now simply execute the cell to define the widget code."
   ]
  },
  {
   "cell_type": "code",
   "execution_count": null,
   "metadata": {
    "collapsed": false
   },
   "outputs": [],
   "source": [
    "%%javascript\n",
    "\n",
    "require(['widgets/js/widget', 'widgets/js/manager', 'jquery', 'underscore'], function(widget, manager, $, _) {\n",
    "    /**\n",
    "     * A Google Maps API widget.\n",
    "     *\n",
    "     * @constructor\n",
    "     */\n",
    "    var GoogleMapsView = widget.DOMWidgetView.extend({\n",
    "        /**\n",
    "         * Load the Maps API JS if needed, also prepare a deferred in case any\n",
    "         * map methods are called before the map is ready.\n",
    "         */\n",
    "        initialize: function() {\n",
    "            // Deferred to track for when the map is ready.\n",
    "            this.mapsReadyDeferred = $.Deferred();\n",
    "\n",
    "            // Dynamically adding Google Maps API JS here. Using a deferred to\n",
    "            // track its load status as require returns as soon as the first\n",
    "            // script loads and the Maps API triggers more scripts to append\n",
    "            // which leaves a race condition where require thinks Maps API JS\n",
    "            // is ready when it is not yet.\n",
    "            var mapsDeferred = this.mapsDeferred = $.Deferred();\n",
    "            // Another instance of this view may have already loaded the Maps\n",
    "            // API JS, do not try to load it twice.\n",
    "            if (window.google && window.google.maps) {\n",
    "                mapsDeferred.resolve();\n",
    "            } else {\n",
    "                window.googleMapsCallback = function() {\n",
    "                    mapsDeferred.resolve();\n",
    "                };\n",
    "                require(\n",
    "                    ['http://maps.googleapis.com/maps/api/js?callback=googleMapsCallback'],\n",
    "                    function() {},\n",
    "                    function() {});\n",
    "            }\n",
    "        },\n",
    "\n",
    "        /**\n",
    "         * Render the map.\n",
    "         */\n",
    "        render: function() {\n",
    "            // We must wait until the Maps API JS is ready.\n",
    "            $.when(this.mapsDeferred.promise()).then(_.bind(function() {\n",
    "                // Empty the views DOM. There seem to be some weird side\n",
    "                // effects when you render more than one instance of this view\n",
    "                // in the notebook. Cleaning the view DOM and deferring the map\n",
    "                // initialization seems to work around this. It seesm almost if\n",
    "                // map instances are sharing some DOM somehow.\n",
    "                this.$el.empty();\n",
    "                _.defer(_.bind(function() {\n",
    "                    this.$map = $([\n",
    "                        '<div style=\"height: ',\n",
    "                        this.model.get('height'),\n",
    "                        '; width: ',\n",
    "                        this.model.get('width'),\n",
    "                        ';\"></div>'\n",
    "                    ].join(''));\n",
    "                    this.$el.append(this.$map);\n",
    "                    this.map = new google.maps.Map(this.$map.get(0), {\n",
    "                        center: {\n",
    "                            lat: this.model.get('lat'),\n",
    "                            lng: this.model.get('lng')\n",
    "                        },\n",
    "                        zoom: this.model.get('zoom')\n",
    "                    });\n",
    "\n",
    "                    // Notify the map when the map container changes size via\n",
    "                    // the exposed properties in the model.\n",
    "                    this.listenTo(\n",
    "                        this.model, 'change:height', _.bind(function() {\n",
    "                            this.$map.height(this.model.get('height'));\n",
    "                            google.maps.event.trigger(this.map, 'resize');\n",
    "                        }, this));\n",
    "                    this.listenTo(\n",
    "                        this.model, 'change:width', _.bind(function() {\n",
    "                            this.$map.width(this.model.get('width'));\n",
    "                            google.maps.event.trigger(this.map, 'resize');\n",
    "                        }, this));\n",
    "\n",
    "                    // Bind a change in the position of the map to the model.\n",
    "                    google.maps.event.addListener(\n",
    "                        this.map,\n",
    "                        'bounds_changed',\n",
    "                        _.bind(this.syncFromMap, this));\n",
    "\n",
    "                    // Bind a change in the model (coming from the Python side)\n",
    "                    // to the location of the map.\n",
    "                    this.listenTo(\n",
    "                        this.model,\n",
    "                        'change:lat',\n",
    "                        _.bind(this.syncFromModel, this));\n",
    "                    this.listenTo(\n",
    "                        this.model,\n",
    "                        'change:lng',\n",
    "                        _.bind(this.syncFromModel, this));\n",
    "                    this.listenTo(\n",
    "                        this.model,\n",
    "                        'change:zoom',\n",
    "                        _.bind(this.syncFromModel, this));\n",
    "\n",
    "                    // Broker messages coming from the Python side over to\n",
    "                    // methods on the view.\n",
    "                    this.listenTo(\n",
    "                        this.model,\n",
    "                        'msg:custom',\n",
    "                        _.bind(this.handleMessage, this));\n",
    "\n",
    "                    // Even though a google.maps.Map instance should be ready\n",
    "                    // immediately, it is not. This delay lets the stack clear\n",
    "                    // and initial map bounds to be set.\n",
    "                    _.delay(_.bind(function() {\n",
    "                        this.mapsReadyDeferred.resolve();\n",
    "                    }, this), 500);\n",
    "                }, this));\n",
    "            }, this));\n",
    "        },\n",
    "\n",
    "        /**\n",
    "         * Sync the values from the map into the model.\n",
    "         */\n",
    "        syncFromMap: function() {\n",
    "            this.model.set({\n",
    "                lat: this.map.getCenter().lat(),\n",
    "                lng: this.map.getCenter().lng(),\n",
    "                zoom: this.map.getZoom()\n",
    "            });\n",
    "            // This is needed for the model to update the equivalent properties\n",
    "            // on the Python instance of this view.\n",
    "            this.model.save_changes();\n",
    "        },\n",
    "\n",
    "        /**\n",
    "         * Move the map to match the values from the model.\n",
    "         */\n",
    "        syncFromModel: function() {\n",
    "            this.map.setCenter(new google.maps.LatLng(\n",
    "                this.model.get('lat'),\n",
    "                this.model.get('lng')\n",
    "            ));\n",
    "            this.map.setZoom(this.model.get('zoom'));\n",
    "        },\n",
    "\n",
    "        /**\n",
    "         * Process a message from the Python view instance and call the desired\n",
    "         * Javascript method.\n",
    "         *\n",
    "         * This method expects a dictionary sent by Python using self.send. The\n",
    "         * dictionary should look like:\n",
    "         *\n",
    "         *   {'method': 'jsMethodToCall', 'params': [1, 2, 3, 4]}\n",
    "         *\n",
    "         * The list of parameters is optional and will be passed in the same\n",
    "         * order to the Javascript method named by the 'method' property.\n",
    "         *\n",
    "         * This is an example of a simple passthrough:\n",
    "         *\n",
    "         *   def fooBar(self, param1, param2):\n",
    "         *       self.send({'method': 'fooBar', 'params': [param1, param2]})\n",
    "         *\n",
    "         * The above would excute the following in Javascript:\n",
    "         *\n",
    "         *   this.fooBar(param1, param2);\n",
    "         *\n",
    "         * @param {!Object<string, *>} payload The message payload describing\n",
    "         *     the method to call.\n",
    "         */\n",
    "        handleMessage: function(payload) {\n",
    "            var params = payload.params || [];\n",
    "            this[payload.method].apply(this, params);\n",
    "        },\n",
    "\n",
    "        /**\n",
    "         * Adds GeoJSON to the map.\n",
    "         *\n",
    "         * @param {!Object} data A GeoJSON object.\n",
    "         */\n",
    "        addGeoJson: function(data) {\n",
    "            // Defer until map is ready.\n",
    "            this.mapsReadyDeferred.done(_.bind(function() {\n",
    "                this.map.data.addGeoJson(data);\n",
    "            }, this));\n",
    "        },\n",
    "\n",
    "        /**\n",
    "         * Adds a URL location of GeoJSON to the map.\n",
    "         *\n",
    "         * @param {string} url The URL of the GeoJSON file to load.\n",
    "         */\n",
    "        loadGeoJson: function(url) {\n",
    "            // Defer until map is ready.\n",
    "            this.mapsReadyDeferred.done(_.bind(function() {\n",
    "                this.map.data.loadGeoJson(url);\n",
    "            }, this));\n",
    "        },\n",
    "\n",
    "        /**\n",
    "         * Add a KML layer to the map.\n",
    "         *\n",
    "         * @param {string} url The URL of the KML file to load.\n",
    "         */\n",
    "        addKmlLayer: function(url) {\n",
    "            // Defer until map is ready.\n",
    "            this.mapsReadyDeferred.done(_.bind(function() {\n",
    "                new google.maps.KmlLayer({\n",
    "                    url: url,\n",
    "                    map: this.map\n",
    "                });\n",
    "            }, this));\n",
    "        },\n",
    "\n",
    "        /**\n",
    "         * Add an Earth Engine layer to the map.\n",
    "         *\n",
    "         * @param {string} mapid The id of the Earth Engine layer.\n",
    "         * @param {string} token The OAuth token to authenticate with.\n",
    "         * @param {string} name The name to use for the layer.\n",
    "         * @param {boolean} visible Whether the layer should be visible or not.\n",
    "         */\n",
    "        addLayer: function(mapid, token, name, visible) {\n",
    "            // Defer until map is ready.\n",
    "            this.mapsReadyDeferred.done(_.bind(function() {\n",
    "                var eeMapOptions = {\n",
    "                    getTileUrl: function(tile, zoom) {\n",
    "                        var url = [\n",
    "                            'https://earthengine.googleapis.com/map',\n",
    "                            mapid,\n",
    "                            zoom,\n",
    "                            tile.x,\n",
    "                            tile.y\n",
    "                        ].join('/');\n",
    "                        url += '?token=' + token;\n",
    "                        return url;\n",
    "                    },\n",
    "                    tileSize: new window.google.maps.Size(256, 256),\n",
    "                    opacity: visible ? 1.0 : 0.0,\n",
    "                };\n",
    "\n",
    "                // Create the overlay map type.\n",
    "                var mapType = new window.google.maps.ImageMapType(eeMapOptions);\n",
    "\n",
    "                // Overlay the Earth Engine generated layer.\n",
    "                this.map.overlayMapTypes.push(mapType);\n",
    "            }, this));\n",
    "        }\n",
    "    });\n",
    "\n",
    "    // Register the view.\n",
    "    manager.WidgetManager.register_widget_view(\n",
    "        'GoogleMapsView', GoogleMapsView);\n",
    "});\n"
   ]
  },
  {
   "cell_type": "markdown",
   "metadata": {},
   "source": [
    "## Configure the Python half of the Widget\n",
    "\n",
    "This is the Python side of the widget and does not typically need modified (unless you are added features to the widget). Eventually this should be bundled as a standalone widget that can be imported from outside the notebook. For now simply execute the cell to register the widget for use."
   ]
  },
  {
   "cell_type": "code",
   "execution_count": null,
   "metadata": {
    "collapsed": false,
    "scrolled": true
   },
   "outputs": [],
   "source": [
    "from ipywidgets import widgets\n",
    "import traitlets\n",
    "\n",
    "class GoogleMapsView(widgets.DOMWidget):\n",
    "    \"\"\"Google Maps API widget.\"\"\"\n",
    "    _view_name = traitlets.Unicode('GoogleMapsView', sync=True)\n",
    "    lat = traitlets.CFloat(0, sync=True)\n",
    "    lng = traitlets.CFloat(0, sync=True)\n",
    "    zoom = traitlets.CInt(2, sync=True)\n",
    "\n",
    "    height = traitlets.CUnicode('300px', sync=True)\n",
    "    width = traitlets.CUnicode('400px', sync=True)\n",
    "\n",
    "    def addGeoJson(self, data):\n",
    "        \"\"\"Adds a dictionary of GeoJSON to the map.\n",
    "\n",
    "        NOTE: It is likely if you are using a third party GeoJSON library you\n",
    "        will have to first serialize the data into a simple dictionary before\n",
    "        passing the data to this method.\n",
    "\n",
    "        Args:\n",
    "            data: A simple python dictionary of GeoJSON data.\n",
    "        \"\"\"\n",
    "        self.send({\n",
    "            'method': 'addGeoJson',\n",
    "            'params': [data]\n",
    "        })\n",
    "\n",
    "    def loadGeoJson(self, url):\n",
    "        \"\"\"Adds a URL location of GeoJSON to the map.\n",
    "\n",
    "        Args:\n",
    "            url: The URL of the GeoJSON file.\n",
    "        \"\"\"\n",
    "        self.send({\n",
    "            'method': 'loadGeoJson',\n",
    "            'params': [url]\n",
    "        })\n",
    "\n",
    "    def addKmlLayer(self, url):\n",
    "        \"\"\"Adds a KML layer to the map.\n",
    "\n",
    "        Args:\n",
    "            url: The URL of the KML file.\n",
    "        \"\"\"\n",
    "        self.send({\n",
    "            'method': 'addKmlLayer',\n",
    "            'params': [url]\n",
    "        })\n",
    "\n",
    "    def addLayer(self, image, vis_params):\n",
    "        \"\"\"Adds an Earth Engine layer to the map.\n",
    "\n",
    "        Args:\n",
    "            image: The ee.Image to display.\n",
    "            vis_params: Dictionary of visualization parameters.\n",
    "        \"\"\"\n",
    "        mapid = image.getMapId(vis_params)\n",
    "        self.send({\n",
    "            'method': 'addLayer',\n",
    "            'params': [\n",
    "                mapid['mapid'],\n",
    "                mapid['token'],\n",
    "                'dummy',\n",
    "                True\n",
    "            ]\n",
    "        })\n"
   ]
  },
  {
   "cell_type": "markdown",
   "metadata": {},
   "source": [
    "## Import Dependencies\n",
    "\n",
    "Some basic dependencies in order to display results of the examples below."
   ]
  },
  {
   "cell_type": "code",
   "execution_count": null,
   "metadata": {
    "collapsed": true
   },
   "outputs": [],
   "source": [
    "from IPython.display import display"
   ]
  },
  {
   "cell_type": "markdown",
   "metadata": {},
   "source": [
    "## Define and display a Map Widget\n",
    "\n",
    "This example code will create and display a simple Google Map."
   ]
  },
  {
   "cell_type": "code",
   "execution_count": null,
   "metadata": {
    "collapsed": true
   },
   "outputs": [],
   "source": [
    "map1 = GoogleMapsView(lng=-119.2, lat=36.3, zoom=4, height='240px', width='800px')\n",
    "display(map1)"
   ]
  },
  {
   "cell_type": "markdown",
   "metadata": {},
   "source": [
    "## Create a second Map Widget and link up panning\n",
    "\n",
    "This example shows how you can link Google Maps widgets together for a linked multi display for cases when you want to showcase multiple datasources together. Note, as you pan and move around the map, the second map will stay in sync with the map above."
   ]
  },
  {
   "cell_type": "code",
   "execution_count": null,
   "metadata": {
    "collapsed": true
   },
   "outputs": [],
   "source": [
    "map2 = GoogleMapsView(height='240px', width='800px')\n",
    "widgets.jslink((map1, 'lat'), (map2, 'lat'))\n",
    "widgets.jslink((map1, 'lng'), (map2, 'lng'))\n",
    "widgets.jslink((map1, 'zoom'), (map2, 'zoom'))\n",
    "display(map2)"
   ]
  },
  {
   "cell_type": "markdown",
   "metadata": {},
   "source": [
    "## Display GeoJSON\n",
    "\n",
    "This example shows two ways of loading GeoJSON data. You can load data directly in Python by creating simple python dictionaries of GeoJSON or point to an external URL."
   ]
  },
  {
   "cell_type": "code",
   "execution_count": null,
   "metadata": {
    "collapsed": true
   },
   "outputs": [],
   "source": [
    "geojson_map = GoogleMapsView(lng=125.6, lat=10.1, zoom= 10, height='240px', width='800px')\n",
    "display(geojson_map)"
   ]
  },
  {
   "cell_type": "code",
   "execution_count": null,
   "metadata": {
    "collapsed": false
   },
   "outputs": [],
   "source": [
    "# This loads GeoJSON directly from a Python dictionary.\n",
    "geojson_map.addGeoJson({\n",
    "    'type': 'Feature',\n",
    "    'geometry': {\n",
    "        'type': 'Point',\n",
    "        'coordinates': [125.6, 10.1]\n",
    "    },\n",
    "    'properties': {\n",
    "        'name': 'Dinagat Islands'\n",
    "    }\n",
    "})"
   ]
  },
  {
   "cell_type": "code",
   "execution_count": null,
   "metadata": {
    "collapsed": true
   },
   "outputs": [],
   "source": [
    "# This loads a URL of GeoJSON (to the same map above).\n",
    "geojson_map.loadGeoJson('https://storage.googleapis.com/maps-devrel/google.json')\n",
    "# Move the map to see the data.\n",
    "geojson_map.lng = 137\n",
    "geojson_map.lat = -28\n",
    "geojson_map.zoom = 4"
   ]
  },
  {
   "cell_type": "markdown",
   "metadata": {},
   "source": [
    "## Display a KML layer\n",
    "\n",
    "This example shows how to load a basic KML layer on a map."
   ]
  },
  {
   "cell_type": "code",
   "execution_count": null,
   "metadata": {
    "collapsed": false
   },
   "outputs": [],
   "source": [
    "# Create a simple map.\n",
    "kml_map = GoogleMapsView(lng=-87.74947400000002, lat=41.89757302024969, zoom=8, height='240px', width='800px')\n",
    "display(kml_map)"
   ]
  },
  {
   "cell_type": "code",
   "execution_count": null,
   "metadata": {
    "collapsed": false
   },
   "outputs": [],
   "source": [
    "# Display the layer.\n",
    "kml_map.addKmlLayer('http://googlemaps.github.io/js-v2-samples/ggeoxml/cta.kml')"
   ]
  },
  {
   "cell_type": "markdown",
   "metadata": {},
   "source": [
    "## Display a Google Earth Engine layer\n",
    "\n",
    "This example shows a basic image from Google Earth Engine on the map (above).\n",
    "\n",
    "WARNING: For these examples to work you must have your Jupyter notebook instance properly authenticated. See the Google Earth Engine guides on how to do this if you are interested."
   ]
  },
  {
   "cell_type": "code",
   "execution_count": null,
   "metadata": {
    "collapsed": true
   },
   "outputs": [],
   "source": [
    "import ee"
   ]
  },
  {
   "cell_type": "code",
   "execution_count": null,
   "metadata": {
    "collapsed": false
   },
   "outputs": [],
   "source": [
    "ee_image_map = GoogleMapsView(lng=-119.2, lat=36.3, zoom=4, height='240px', width='800px')\n",
    "display(ee_image_map)\n",
    "dem = ee.Image('USGS/SRTMGL1_003')\n",
    "ee_image_map.addLayer(image=dem, vis_params={'min': 0, 'max': 3000})"
   ]
  },
  {
   "cell_type": "markdown",
   "metadata": {},
   "source": [
    "## Define some Earth Engine image layers and visualization parameters\n",
    "\n",
    "This example shows data from three different sources with some visualization parameters set."
   ]
  },
  {
   "cell_type": "code",
   "execution_count": null,
   "metadata": {
    "collapsed": true
   },
   "outputs": [],
   "source": [
    "# Landsat 8\n",
    "l8 = ee.ImageCollection('LANDSAT/LC8_L1T_TOA').filterDate('2015-09-01', '2015-11-01').median()\n",
    "\n",
    "# Skybox\n",
    "skybox1 = ee.ImageCollection('S4G_BETA/MULTISPECTRAL').mosaic();\n",
    "\n",
    "# Calculated NDVI\n",
    "skybox_ndvi = skybox1.normalizedDifference(['N','R'])\n",
    "\n",
    "# Create map widgets.\n",
    "map3a = GoogleMapsView(lng=-57.8106689453125, lat=2.6474491435545797, zoom=6, height='240px', width='800px')\n",
    "map3b = GoogleMapsView(height=map3a.height, width=map3a.width)\n",
    "map3c = GoogleMapsView(height=map3a.height, width=map3a.width)\n",
    "\n",
    "# Link the map widgets.\n",
    "widgets.jslink((map3a, 'lat'), (map3b, 'lat'))\n",
    "widgets.jslink((map3a, 'lng'), (map3b, 'lng'))\n",
    "widgets.jslink((map3a, 'zoom'), (map3b, 'zoom'))\n",
    "widgets.jslink((map3a, 'lat'), (map3c, 'lat'))\n",
    "widgets.jslink((map3a, 'lng'), (map3c, 'lng'))\n",
    "widgets.jslink((map3a, 'zoom'), (map3c, 'zoom'))\n",
    "\n",
    "display(map3a)\n",
    "display(map3b)\n",
    "display(map3c)"
   ]
  },
  {
   "cell_type": "code",
   "execution_count": null,
   "metadata": {
    "collapsed": false
   },
   "outputs": [],
   "source": [
    "# Add the layers to the maps.\n",
    "map3a.addLayer(image=l8, vis_params={'min': 0, 'max': 0.3, 'bands': 'B4,B3,B2'})\n",
    "map3b.addLayer(image=skybox1, vis_params={'min': 0, 'max': 200, 'bands': 'R,G,B'})\n",
    "map3c.addLayer(image=skybox_ndvi, vis_params={'min': 0, 'max': 1})"
   ]
  },
  {
   "cell_type": "code",
   "execution_count": null,
   "metadata": {
    "collapsed": false
   },
   "outputs": [],
   "source": [
    "(map3a.lng, map3a.lat, map3a.zoom)"
   ]
  }
 ],
 "metadata": {
  "kernelspec": {
   "display_name": "Python 2",
   "language": "python",
   "name": "python2"
  },
  "language_info": {
   "codemirror_mode": {
    "name": "ipython",
    "version": 2
   },
   "file_extension": ".py",
   "mimetype": "text/x-python",
   "name": "python",
   "nbconvert_exporter": "python",
   "pygments_lexer": "ipython2",
   "version": "2.7.10"
  }
 },
 "nbformat": 4,
 "nbformat_minor": 0
}
