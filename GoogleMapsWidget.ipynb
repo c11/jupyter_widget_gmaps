{
 "cells": [
  {
   "cell_type": "code",
   "execution_count": 11,
   "metadata": {
    "collapsed": false
   },
   "outputs": [
    {
     "data": {
      "application/javascript": [
       "\n",
       "require(['widgets/js/widget', 'widgets/js/manager', 'jquery', 'underscore'], function(widget, manager, $, _) {\n",
       "    var GoogleMapsView = widget.DOMWidgetView.extend({\n",
       "        initialize: function() {\n",
       "            var mapsDeferred = this.mapsDeferred = $.Deferred();\n",
       "            if (window.google && window.google.maps) {\n",
       "                mapsDeferred.resolve();\n",
       "            } else {\n",
       "                window.googleMapsCallback = function() {\n",
       "                    mapsDeferred.resolve();\n",
       "                }\n",
       "                require(\n",
       "                    ['http://maps.googleapis.com/maps/api/js?callback=googleMapsCallback'], \n",
       "                    function() {}, \n",
       "                    function() {});\n",
       "            }\n",
       "        },\n",
       "        \n",
       "        render: function() {\n",
       "            $.when(this.mapsDeferred.promise()).then(_.bind(function() {\n",
       "                this.$el.empty();\n",
       "                _.defer(_.bind(function() {\n",
       "                    this.$map = $('<div style=\"height: 300px; width: 400px;\"></div>');\n",
       "                    this.$el.append(this.$map);\n",
       "                    this.map = new google.maps.Map(this.$map.get(0), {\n",
       "                        center: {lat: this.model.get('lat'), lng: this.model.get('lng')},\n",
       "                        zoom: this.model.get('zoom')\n",
       "                    });\n",
       "                    \n",
       "                    google.maps.event.addListener(this.map, 'bounds_changed', _.bind(this.syncFromMap, this));\n",
       "                    \n",
       "                    this.listenTo(this.model, 'change:lat', _.bind(this.syncFromModel, this));\n",
       "                    this.listenTo(this.model, 'change:lng', _.bind(this.syncFromModel, this));\n",
       "                    this.listenTo(this.model, 'change:zoom', _.bind(this.syncFromModel, this));\n",
       "                }, this));\n",
       "            }, this));\n",
       "        },\n",
       "        \n",
       "        syncFromMap: function() {\n",
       "            this.model.set({\n",
       "                lat: this.map.getCenter().lat(),\n",
       "                lng: this.map.getCenter().lng(),\n",
       "                zoom: this.map.getZoom()\n",
       "            });\n",
       "            this.model.save_changes();\n",
       "            console.log(this.model);\n",
       "        },\n",
       "        \n",
       "        syncFromModel: function() {\n",
       "            this.map.setCenter(new google.maps.LatLng(\n",
       "                this.model.get('lat'),\n",
       "                this.model.get('lng')\n",
       "            ));\n",
       "            this.map.setZoom(this.model.get('zoom'));\n",
       "        }\n",
       "    });\n",
       "    \n",
       "    manager.WidgetManager.register_widget_view('GoogleMapsView', GoogleMapsView);\n",
       "});"
      ],
      "text/plain": [
       "<IPython.core.display.Javascript object>"
      ]
     },
     "metadata": {},
     "output_type": "display_data"
    }
   ],
   "source": [
    "%%javascript\n",
    "\n",
    "require(['widgets/js/widget', 'widgets/js/manager', 'jquery', 'underscore'], function(widget, manager, $, _) {\n",
    "    var GoogleMapsView = widget.DOMWidgetView.extend({\n",
    "        initialize: function() {\n",
    "            var mapsDeferred = this.mapsDeferred = $.Deferred();\n",
    "            if (window.google && window.google.maps) {\n",
    "                mapsDeferred.resolve();\n",
    "            } else {\n",
    "                window.googleMapsCallback = function() {\n",
    "                    mapsDeferred.resolve();\n",
    "                }\n",
    "                require(\n",
    "                    ['http://maps.googleapis.com/maps/api/js?callback=googleMapsCallback'], \n",
    "                    function() {}, \n",
    "                    function() {});\n",
    "            }\n",
    "        },\n",
    "        \n",
    "        render: function() {\n",
    "            $.when(this.mapsDeferred.promise()).then(_.bind(function() {\n",
    "                this.$el.empty();\n",
    "                _.defer(_.bind(function() {\n",
    "                    this.$map = $('<div style=\"height: 300px; width: 400px;\"></div>');\n",
    "                    this.$el.append(this.$map);\n",
    "                    this.map = new google.maps.Map(this.$map.get(0), {\n",
    "                        center: {lat: this.model.get('lat'), lng: this.model.get('lng')},\n",
    "                        zoom: this.model.get('zoom')\n",
    "                    });\n",
    "                    \n",
    "                    google.maps.event.addListener(this.map, 'bounds_changed', _.bind(this.syncFromMap, this));\n",
    "                    \n",
    "                    this.listenTo(this.model, 'change:lat', _.bind(this.syncFromModel, this));\n",
    "                    this.listenTo(this.model, 'change:lng', _.bind(this.syncFromModel, this));\n",
    "                    this.listenTo(this.model, 'change:zoom', _.bind(this.syncFromModel, this));\n",
    "                }, this));\n",
    "            }, this));\n",
    "        },\n",
    "        \n",
    "        syncFromMap: function() {\n",
    "            this.model.set({\n",
    "                lat: this.map.getCenter().lat(),\n",
    "                lng: this.map.getCenter().lng(),\n",
    "                zoom: this.map.getZoom()\n",
    "            });\n",
    "            this.model.save_changes();\n",
    "            console.log(this.model);\n",
    "        },\n",
    "        \n",
    "        syncFromModel: function() {\n",
    "            this.map.setCenter(new google.maps.LatLng(\n",
    "                this.model.get('lat'),\n",
    "                this.model.get('lng')\n",
    "            ));\n",
    "            this.map.setZoom(this.model.get('zoom'));\n",
    "        }\n",
    "    });\n",
    "    \n",
    "    manager.WidgetManager.register_widget_view('GoogleMapsView', GoogleMapsView);\n",
    "});"
   ]
  },
  {
   "cell_type": "code",
   "execution_count": 12,
   "metadata": {
    "collapsed": false,
    "scrolled": true
   },
   "outputs": [],
   "source": [
    "from ipywidgets import widgets\n",
    "import traitlets\n",
    "\n",
    "class GoogleMapsView(widgets.DOMWidget, traitlets.HasTraits):\n",
    "    _view_name = traitlets.Unicode('GoogleMapsView', sync=True)\n",
    "    lat = traitlets.CFloat(0, sync=True)\n",
    "    lng = traitlets.CFloat(0, sync=True)\n",
    "    zoom = traitlets.CInt(2, sync=True)"
   ]
  },
  {
   "cell_type": "code",
   "execution_count": 13,
   "metadata": {
    "collapsed": false
   },
   "outputs": [],
   "source": [
    "from IPython.display import display\n",
    "\n",
    "a = GoogleMapsView()\n",
    "b = GoogleMapsView()\n",
    "\n",
    "widgets.jslink((a, 'lat'), (b, 'lat'))\n",
    "widgets.jslink((a, 'lng'), (b, 'lng'))\n",
    "widgets.jslink((a, 'zoom'), (b, 'zoom'))"
   ]
  },
  {
   "cell_type": "code",
   "execution_count": 16,
   "metadata": {
    "collapsed": true
   },
   "outputs": [],
   "source": [
    "a"
   ]
  },
  {
   "cell_type": "code",
   "execution_count": 17,
   "metadata": {
    "collapsed": true
   },
   "outputs": [],
   "source": [
    "b"
   ]
  },
  {
   "cell_type": "code",
   "execution_count": 20,
   "metadata": {
    "collapsed": false
   },
   "outputs": [
    {
     "data": {
      "text/plain": [
       "47.517200697839414"
      ]
     },
     "execution_count": 20,
     "metadata": {},
     "output_type": "execute_result"
    }
   ],
   "source": [
    "a.lat"
   ]
  },
  {
   "cell_type": "code",
   "execution_count": 21,
   "metadata": {
    "collapsed": false
   },
   "outputs": [
    {
     "data": {
      "text/plain": [
       "47.517200697839414"
      ]
     },
     "execution_count": 21,
     "metadata": {},
     "output_type": "execute_result"
    }
   ],
   "source": [
    "b.lat"
   ]
  },
  {
   "cell_type": "code",
   "execution_count": null,
   "metadata": {
    "collapsed": false
   },
   "outputs": [],
   "source": []
  },
  {
   "cell_type": "code",
   "execution_count": null,
   "metadata": {
    "collapsed": true
   },
   "outputs": [],
   "source": []
  }
 ],
 "metadata": {
  "kernelspec": {
   "display_name": "Python 2",
   "language": "python",
   "name": "python2"
  },
  "language_info": {
   "codemirror_mode": {
    "name": "ipython",
    "version": 2
   },
   "file_extension": ".py",
   "mimetype": "text/x-python",
   "name": "python",
   "nbconvert_exporter": "python",
   "pygments_lexer": "ipython2",
   "version": "2.7.10"
  }
 },
 "nbformat": 4,
 "nbformat_minor": 0
}
