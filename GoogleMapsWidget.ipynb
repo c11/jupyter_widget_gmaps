{
 "cells": [
  {
   "cell_type": "code",
   "execution_count": 99,
   "metadata": {
    "collapsed": false
   },
   "outputs": [
    {
     "data": {
      "application/javascript": [
       "\n",
       "require(['widgets/js/widget', 'widgets/js/manager', 'jquery', 'underscore'], function(widget, manager, $, _) {\n",
       "    var GoogleMapsView = widget.DOMWidgetView.extend({\n",
       "        initialize: function() {\n",
       "            var mapsDeferred = this.mapsDeferred = $.Deferred();\n",
       "            if (window.google && window.google.maps) {\n",
       "                mapsDeferred.resolve();\n",
       "            } else {\n",
       "                window.googleMapsCallback = function() {\n",
       "                    mapsDeferred.resolve();\n",
       "                }\n",
       "                require(\n",
       "                    ['http://maps.googleapis.com/maps/api/js?callback=googleMapsCallback'], \n",
       "                    function() {}, \n",
       "                    function() {});\n",
       "            }\n",
       "        },\n",
       "        \n",
       "        render: function() {\n",
       "            $.when(this.mapsDeferred.promise()).then(_.bind(function() {\n",
       "                this.$el.empty();\n",
       "                _.defer(_.bind(function() {\n",
       "                    this.$map = $(\n",
       "                        '<div style=\"height: ' + this.model.get('height') + '; width: ' + this.model.get('width') + ';\"></div>');\n",
       "                    this.$el.append(this.$map);\n",
       "                    this.map = new google.maps.Map(this.$map.get(0), {\n",
       "                        center: {lat: this.model.get('lat'), lng: this.model.get('lng')},\n",
       "                        zoom: this.model.get('zoom')\n",
       "                    });\n",
       "                    \n",
       "                    this.listenTo(this.model, 'change:height', _.bind(function() {\n",
       "                        this.$map.height(this.model.get('height'));\n",
       "                        google.maps.event.trigger(this.map, 'resize');\n",
       "                    }, this));\n",
       "                    this.listenTo(this.model, 'change:width', _.bind(function() {\n",
       "                        this.$map.width(this.model.get('width'));\n",
       "                        google.maps.event.trigger(this.map, 'resize');\n",
       "                    }, this));\n",
       "                    \n",
       "                    google.maps.event.addListener(this.map, 'bounds_changed', _.bind(this.syncFromMap, this));\n",
       "                    \n",
       "                    this.listenTo(this.model, 'change:lat', _.bind(this.syncFromModel, this));\n",
       "                    this.listenTo(this.model, 'change:lng', _.bind(this.syncFromModel, this));\n",
       "                    this.listenTo(this.model, 'change:zoom', _.bind(this.syncFromModel, this));\n",
       "                    \n",
       "                    this.listenTo(this.model, 'msg:custom', _.bind(this.handleMessage, this));\n",
       "                }, this));\n",
       "            }, this));\n",
       "        },\n",
       "        \n",
       "        syncFromMap: function() {\n",
       "            this.model.set({\n",
       "                lat: this.map.getCenter().lat(),\n",
       "                lng: this.map.getCenter().lng(),\n",
       "                zoom: this.map.getZoom()\n",
       "            });\n",
       "            this.model.save_changes();\n",
       "        },\n",
       "        \n",
       "        syncFromModel: function() {\n",
       "            this.map.setCenter(new google.maps.LatLng(\n",
       "                this.model.get('lat'),\n",
       "                this.model.get('lng')\n",
       "            ));\n",
       "            this.map.setZoom(this.model.get('zoom'));\n",
       "        },\n",
       "        \n",
       "        handleMessage: function(payload) {\n",
       "            var params = payload.params || [];\n",
       "            this[payload.method].apply(this, params);\n",
       "        },\n",
       "        \n",
       "        addLayer: function() {\n",
       "            console.log(arguments);\n",
       "        }\n",
       "    });\n",
       "    \n",
       "    manager.WidgetManager.register_widget_view('GoogleMapsView', GoogleMapsView);\n",
       "});"
      ],
      "text/plain": [
       "<IPython.core.display.Javascript object>"
      ]
     },
     "metadata": {},
     "output_type": "display_data"
    }
   ],
   "source": [
    "%%javascript\n",
    "\n",
    "require(['widgets/js/widget', 'widgets/js/manager', 'jquery', 'underscore'], function(widget, manager, $, _) {\n",
    "    var GoogleMapsView = widget.DOMWidgetView.extend({\n",
    "        initialize: function() {\n",
    "            var mapsDeferred = this.mapsDeferred = $.Deferred();\n",
    "            if (window.google && window.google.maps) {\n",
    "                mapsDeferred.resolve();\n",
    "            } else {\n",
    "                window.googleMapsCallback = function() {\n",
    "                    mapsDeferred.resolve();\n",
    "                }\n",
    "                require(\n",
    "                    ['http://maps.googleapis.com/maps/api/js?callback=googleMapsCallback'], \n",
    "                    function() {}, \n",
    "                    function() {});\n",
    "            }\n",
    "        },\n",
    "        \n",
    "        render: function() {\n",
    "            $.when(this.mapsDeferred.promise()).then(_.bind(function() {\n",
    "                this.$el.empty();\n",
    "                _.defer(_.bind(function() {\n",
    "                    this.$map = $(\n",
    "                        '<div style=\"height: ' + this.model.get('height') + '; width: ' + this.model.get('width') + ';\"></div>');\n",
    "                    this.$el.append(this.$map);\n",
    "                    this.map = new google.maps.Map(this.$map.get(0), {\n",
    "                        center: {lat: this.model.get('lat'), lng: this.model.get('lng')},\n",
    "                        zoom: this.model.get('zoom')\n",
    "                    });\n",
    "                    \n",
    "                    this.listenTo(this.model, 'change:height', _.bind(function() {\n",
    "                        this.$map.height(this.model.get('height'));\n",
    "                        google.maps.event.trigger(this.map, 'resize');\n",
    "                    }, this));\n",
    "                    this.listenTo(this.model, 'change:width', _.bind(function() {\n",
    "                        this.$map.width(this.model.get('width'));\n",
    "                        google.maps.event.trigger(this.map, 'resize');\n",
    "                    }, this));\n",
    "                    \n",
    "                    google.maps.event.addListener(this.map, 'bounds_changed', _.bind(this.syncFromMap, this));\n",
    "                    \n",
    "                    this.listenTo(this.model, 'change:lat', _.bind(this.syncFromModel, this));\n",
    "                    this.listenTo(this.model, 'change:lng', _.bind(this.syncFromModel, this));\n",
    "                    this.listenTo(this.model, 'change:zoom', _.bind(this.syncFromModel, this));\n",
    "                    \n",
    "                    this.listenTo(this.model, 'msg:custom', _.bind(this.handleMessage, this));\n",
    "                }, this));\n",
    "            }, this));\n",
    "        },\n",
    "        \n",
    "        syncFromMap: function() {\n",
    "            this.model.set({\n",
    "                lat: this.map.getCenter().lat(),\n",
    "                lng: this.map.getCenter().lng(),\n",
    "                zoom: this.map.getZoom()\n",
    "            });\n",
    "            this.model.save_changes();\n",
    "        },\n",
    "        \n",
    "        syncFromModel: function() {\n",
    "            this.map.setCenter(new google.maps.LatLng(\n",
    "                this.model.get('lat'),\n",
    "                this.model.get('lng')\n",
    "            ));\n",
    "            this.map.setZoom(this.model.get('zoom'));\n",
    "        },\n",
    "        \n",
    "        handleMessage: function(payload) {\n",
    "            var params = payload.params || [];\n",
    "            this[payload.method].apply(this, params);\n",
    "        },\n",
    "        \n",
    "        addLayer: function() {\n",
    "            console.log(arguments);\n",
    "        }\n",
    "    });\n",
    "    \n",
    "    manager.WidgetManager.register_widget_view('GoogleMapsView', GoogleMapsView);\n",
    "});"
   ]
  },
  {
   "cell_type": "code",
   "execution_count": 100,
   "metadata": {
    "collapsed": false,
    "scrolled": true
   },
   "outputs": [],
   "source": [
    "from ipywidgets import widgets\n",
    "import traitlets\n",
    "\n",
    "class GoogleMapsView(widgets.DOMWidget):\n",
    "    _view_name = traitlets.Unicode('GoogleMapsView', sync=True)\n",
    "    lat = traitlets.CFloat(0, sync=True)\n",
    "    lng = traitlets.CFloat(0, sync=True)\n",
    "    zoom = traitlets.CInt(2, sync=True)\n",
    "    \n",
    "    height = traitlets.CUnicode('300px', sync=True)\n",
    "    width = traitlets.CUnicode('400px', sync=True)\n",
    "    \n",
    "    def addLayer(self, image, vis_params):\n",
    "        # map_id = image.getMapId(vis_params)\n",
    "        self.send({'method': 'addLayer', 'params': [1, 2, 3, 4]})"
   ]
  },
  {
   "cell_type": "code",
   "execution_count": 101,
   "metadata": {
    "collapsed": false
   },
   "outputs": [],
   "source": [
    "from IPython.display import display\n",
    "\n",
    "import ee\n",
    "\n",
    "a = GoogleMapsView()\n",
    "b = GoogleMapsView()\n",
    "\n",
    "widgets.jslink((a, 'lat'), (b, 'lat'))\n",
    "widgets.jslink((a, 'lng'), (b, 'lng'))\n",
    "widgets.jslink((a, 'zoom'), (b, 'zoom'))"
   ]
  },
  {
   "cell_type": "code",
   "execution_count": 102,
   "metadata": {
    "collapsed": true
   },
   "outputs": [],
   "source": [
    "a"
   ]
  },
  {
   "cell_type": "code",
   "execution_count": 103,
   "metadata": {
    "collapsed": true
   },
   "outputs": [],
   "source": [
    "b"
   ]
  },
  {
   "cell_type": "code",
   "execution_count": 104,
   "metadata": {
    "collapsed": false
   },
   "outputs": [
    {
     "data": {
      "text/plain": [
       "0.0"
      ]
     },
     "execution_count": 104,
     "metadata": {},
     "output_type": "execute_result"
    }
   ],
   "source": [
    "a.lat"
   ]
  },
  {
   "cell_type": "code",
   "execution_count": 105,
   "metadata": {
    "collapsed": false
   },
   "outputs": [
    {
     "data": {
      "text/plain": [
       "0.0"
      ]
     },
     "execution_count": 105,
     "metadata": {},
     "output_type": "execute_result"
    }
   ],
   "source": [
    "b.lat"
   ]
  },
  {
   "cell_type": "code",
   "execution_count": 106,
   "metadata": {
    "collapsed": false
   },
   "outputs": [],
   "source": [
    "a.addLayer(None, None)"
   ]
  },
  {
   "cell_type": "code",
   "execution_count": 107,
   "metadata": {
    "collapsed": true
   },
   "outputs": [],
   "source": [
    "a.width = '600px'"
   ]
  },
  {
   "cell_type": "code",
   "execution_count": null,
   "metadata": {
    "collapsed": true
   },
   "outputs": [],
   "source": []
  }
 ],
 "metadata": {
  "kernelspec": {
   "display_name": "Python 2",
   "language": "python",
   "name": "python2"
  },
  "language_info": {
   "codemirror_mode": {
    "name": "ipython",
    "version": 2
   },
   "file_extension": ".py",
   "mimetype": "text/x-python",
   "name": "python",
   "nbconvert_exporter": "python",
   "pygments_lexer": "ipython2",
   "version": "2.7.10"
  }
 },
 "nbformat": 4,
 "nbformat_minor": 0
}
